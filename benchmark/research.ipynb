{
 "cells": [
  {
   "cell_type": "markdown",
   "id": "a2287276",
   "metadata": {},
   "source": [
    "<h1 align=\"center\"> Research: MongoDB </h1>"
   ]
  },
  {
   "cell_type": "markdown",
   "id": "918b56ac",
   "metadata": {},
   "source": [
    "## 1. Preparing the storage cluster for operation"
   ]
  },
  {
   "cell_type": "code",
   "execution_count": 1,
   "id": "d93edc0d",
   "metadata": {},
   "outputs": [],
   "source": [
    "from pymongo import MongoClient\n",
    "\n",
    "mongodb = MongoClient('mongodb://mongo:27017/testdb?uuidRepresentation=standard').get_default_database()"
   ]
  },
  {
   "cell_type": "code",
   "execution_count": 2,
   "id": "91e5f271",
   "metadata": {},
   "outputs": [
    {
     "data": {
      "text/plain": [
       "Collection(Database(MongoClient(host=['mongo:27017'], document_class=dict, tz_aware=False, connect=True, uuidrepresentation=4), 'testdb'), 'users')"
      ]
     },
     "execution_count": 2,
     "metadata": {},
     "output_type": "execute_result"
    }
   ],
   "source": [
    "mongodb.create_collection(\n",
    "    name='users',\n",
    "    validator={\n",
    "        '$jsonSchema': {\n",
    "            'bsonType': 'object',\n",
    "            'required': ['_id', 'bookmarks'],\n",
    "            'properties': {\n",
    "                '_id': {'bsonType': 'binData'},\n",
    "                'bookmarks': {\n",
    "                    'bsonType': 'array',\n",
    "                    'items': {\n",
    "                        'bsonType': 'object',\n",
    "                        'required': ['film_id'],\n",
    "                        'properties': {\n",
    "                            'film_id': {'bsonType': 'binData'},\n",
    "                        },\n",
    "                    },\n",
    "                },\n",
    "            },\n",
    "        },\n",
    "    },\n",
    ")"
   ]
  },
  {
   "cell_type": "code",
   "execution_count": 3,
   "id": "7a182de4",
   "metadata": {},
   "outputs": [
    {
     "data": {
      "text/plain": [
       "Collection(Database(MongoClient(host=['mongo:27017'], document_class=dict, tz_aware=False, connect=True, uuidrepresentation=4), 'testdb'), 'films')"
      ]
     },
     "execution_count": 3,
     "metadata": {},
     "output_type": "execute_result"
    }
   ],
   "source": [
    "mongodb.create_collection(\n",
    "    name='films',\n",
    "    validator={\n",
    "        '$jsonSchema': {\n",
    "            'bsonType': 'object',\n",
    "            'required': ['_id', 'votes'],\n",
    "            'properties': {\n",
    "                '_id': {'bsonType': 'binData'},\n",
    "                'votes': {\n",
    "                    'bsonType': 'array',\n",
    "                    'items': {\n",
    "                        'bsonType': 'object',\n",
    "                        'required': ['user_id', 'score'],\n",
    "                        'properties': {\n",
    "                            'user_id': {'bsonType': 'binData'},\n",
    "                            'score': {'bsonType': 'number'},\n",
    "                        },\n",
    "                    },\n",
    "                },\n",
    "            },\n",
    "        },\n",
    "    },\n",
    ")"
   ]
  },
  {
   "cell_type": "markdown",
   "id": "d90893cb",
   "metadata": {},
   "source": [
    "## 2. Scripts for data generation (movie bookmarks and user ratings)"
   ]
  },
  {
   "cell_type": "code",
   "execution_count": 4,
   "id": "5285ddf3",
   "metadata": {},
   "outputs": [],
   "source": [
    "from random import choice, randrange, sample\n",
    "\n",
    "\n",
    "def gen_bookmarks(film_ids: list):\n",
    "    return [\n",
    "        {'film_id': film_id}\n",
    "        for film_id in sample(population=film_ids, k=randrange(len(film_ids)))\n",
    "    ]\n",
    "\n",
    "\n",
    "def gen_votes(user_ids: list):\n",
    "    return [\n",
    "        {'user_id': user_id, 'score': choice([0, 10])}\n",
    "        for user_id in sample(population=user_ids, k=randrange(len(user_ids)))\n",
    "    ]"
   ]
  },
  {
   "cell_type": "markdown",
   "id": "cba7c22f",
   "metadata": {},
   "source": [
    "## 3. Load test data (10 million users and 100 thousand movies)"
   ]
  },
  {
   "cell_type": "code",
   "execution_count": 5,
   "id": "d6d0ce7e",
   "metadata": {},
   "outputs": [],
   "source": [
    "from pymongo import InsertOne\n",
    "from uuid import uuid4, UUID\n",
    "\n",
    "users_batch_size = 10000\n",
    "films_batch_size = 100\n",
    "multiplier = 1000\n",
    "\n",
    "for _ in range(multiplier):\n",
    "    user_ids = [uuid4() for _ in range(users_batch_size)]\n",
    "    film_ids = [uuid4() for _ in range(films_batch_size)]\n",
    "    mongodb.get_collection('users').bulk_write(\n",
    "        requests=[\n",
    "            InsertOne({'_id': user_id, 'bookmarks': gen_bookmarks(film_ids)}) for user_id in user_ids\n",
    "        ],\n",
    "        ordered=False,\n",
    "    )\n",
    "    mongodb.get_collection('films').bulk_write(\n",
    "        requests=[\n",
    "            InsertOne({'_id': film_id, 'votes': gen_votes(user_ids)}) for film_id in film_ids\n",
    "        ],\n",
    "        ordered=False,\n",
    "    )"
   ]
  },
  {
   "cell_type": "code",
   "execution_count": 6,
   "id": "1b0f0a39",
   "metadata": {},
   "outputs": [
    {
     "data": {
      "text/plain": [
       "10000000"
      ]
     },
     "execution_count": 6,
     "metadata": {},
     "output_type": "execute_result"
    }
   ],
   "source": [
    "mongodb.get_collection('users').count_documents({})"
   ]
  },
  {
   "cell_type": "code",
   "execution_count": 7,
   "id": "b89d020a",
   "metadata": {},
   "outputs": [
    {
     "data": {
      "text/plain": [
       "100000"
      ]
     },
     "execution_count": 7,
     "metadata": {},
     "output_type": "execute_result"
    }
   ],
   "source": [
    "mongodb.get_collection('films').count_documents({})"
   ]
  },
  {
   "cell_type": "markdown",
   "id": "f406eafd",
   "metadata": {},
   "source": [
    "## 4. Testing the reading of already loaded data"
   ]
  },
  {
   "cell_type": "code",
   "execution_count": 8,
   "id": "d22c2ba2",
   "metadata": {},
   "outputs": [],
   "source": [
    "def random_user_id():\n",
    "    return choice(list(mongodb.get_collection('users').aggregate(\n",
    "        [\n",
    "            {'$sample': {'size': users_batch_size}},\n",
    "            {'$project': {'_id': '$_id'}},\n",
    "        ],\n",
    "    )))['_id']\n",
    "\n",
    "\n",
    "def random_film_id():\n",
    "    return choice(list(mongodb.get_collection('films').aggregate(\n",
    "        [\n",
    "            {'$sample': {'size': films_batch_size}},\n",
    "            {'$project': {'_id': '$_id'}},\n",
    "        ],\n",
    "    )))['_id']"
   ]
  },
  {
   "cell_type": "markdown",
   "id": "d0336ad0",
   "metadata": {},
   "source": [
    "### `User bookmarks list`"
   ]
  },
  {
   "cell_type": "code",
   "execution_count": 9,
   "id": "b73116d3",
   "metadata": {},
   "outputs": [
    {
     "data": {
      "text/plain": [
       "UUID('8d235240-8f4e-430e-b841-51b42585e5c8')"
      ]
     },
     "execution_count": 9,
     "metadata": {},
     "output_type": "execute_result"
    }
   ],
   "source": [
    "random_user_id()"
   ]
  },
  {
   "cell_type": "code",
   "execution_count": 10,
   "id": "bb056d8e",
   "metadata": {},
   "outputs": [
    {
     "name": "stdout",
     "output_type": "stream",
     "text": [
      "CPU times: user 3.37 ms, sys: 2 ms, total: 5.37 ms\n",
      "Wall time: 15.1 ms\n"
     ]
    },
    {
     "data": {
      "text/plain": [
       "[{'film_id': UUID('e825cfbf-1dc7-493b-adb6-a69cf10c20e1')},\n",
       " {'film_id': UUID('fdd63f3a-5bb9-43ab-994f-a4590e9dedce')},\n",
       " {'film_id': UUID('3ac55156-0fcf-430a-89ac-ff61efbab470')},\n",
       " {'film_id': UUID('147838a0-af24-49cd-ac71-15dc9893cc82')},\n",
       " {'film_id': UUID('a44639fe-3062-48bc-89c8-e7376f3a942b')},\n",
       " {'film_id': UUID('60776367-6961-46c6-947e-558b02c53783')},\n",
       " {'film_id': UUID('20378626-b153-48e4-902d-d037b9750c5a')},\n",
       " {'film_id': UUID('6130dc73-f3b9-4f19-8a9e-9adf789b76c4')},\n",
       " {'film_id': UUID('93604b53-6b71-46ee-b383-7673ba8dc562')},\n",
       " {'film_id': UUID('d3d19f36-9552-4d23-80cb-05893a360bad')},\n",
       " {'film_id': UUID('a71bf08c-8727-4e97-800a-af307c715a57')},\n",
       " {'film_id': UUID('e9ae839e-4238-4929-8e80-b891f46312e1')},\n",
       " {'film_id': UUID('0d971f06-82ac-4ca0-880c-821baa75c25f')},\n",
       " {'film_id': UUID('3ce888dc-07c5-42be-af3e-6c1072131b97')},\n",
       " {'film_id': UUID('93a58284-fdca-46bf-b0fb-486cb7c13cdf')},\n",
       " {'film_id': UUID('0921313b-729f-41e3-bcb1-b961370a7a46')},\n",
       " {'film_id': UUID('c75a9d55-4c83-4a96-b39d-e6d1948e011e')},\n",
       " {'film_id': UUID('abd9d1f7-8bc4-4f5a-ad4a-4f5299e654ac')},\n",
       " {'film_id': UUID('b2dbb8c8-4225-4460-91d6-d630ef7d9ffd')},\n",
       " {'film_id': UUID('908350ad-d839-4f3a-be70-0a5a7834ee52')},\n",
       " {'film_id': UUID('3a061ba6-fd7c-4feb-bf0f-b3887af34b07')},\n",
       " {'film_id': UUID('b21a6692-a12d-4be3-9017-dfed57a800aa')},\n",
       " {'film_id': UUID('e3d16fc6-e77c-4f62-9642-7d5075bff102')},\n",
       " {'film_id': UUID('b68da04e-aed8-4f79-8fa5-3f1ab6d6dcb0')},\n",
       " {'film_id': UUID('de66884a-8a4b-4875-9fc9-dd4f3fe39b22')},\n",
       " {'film_id': UUID('4778ef77-a5f7-4dd4-b67a-a9967a864753')},\n",
       " {'film_id': UUID('806c5216-1bdd-4f8f-8138-519b332e3793')},\n",
       " {'film_id': UUID('78802035-0b46-4f10-800a-5e3f5ec4bf66')},\n",
       " {'film_id': UUID('c95b005e-aa84-47f7-9482-7f366c2f9f16')},\n",
       " {'film_id': UUID('b6c74e7b-e465-40cb-a428-797a7dc4f1a8')},\n",
       " {'film_id': UUID('22ebf24f-3606-42c7-bc94-fc5b2aafaf5e')},\n",
       " {'film_id': UUID('bb25faca-7d57-4e26-a402-9a3abc9126aa')},\n",
       " {'film_id': UUID('f4208618-b91c-40ad-b790-673be2d61fd3')},\n",
       " {'film_id': UUID('781b4cd9-1d6b-49b1-a973-f40605776034')},\n",
       " {'film_id': UUID('e56d5f56-3f26-4851-9f49-3637448c0db1')},\n",
       " {'film_id': UUID('81353363-15a5-4ebe-8f2d-b14bf36781c2')},\n",
       " {'film_id': UUID('b9ce1526-7c06-4b95-8483-968dbd9b54a4')},\n",
       " {'film_id': UUID('1e417f6d-680f-4ccc-9944-7c581b84ecf5')},\n",
       " {'film_id': UUID('162a7da9-fcc4-4aac-8127-b93bf5202bcd')},\n",
       " {'film_id': UUID('d8206033-b1db-48c0-ae02-6f00178a4ed1')},\n",
       " {'film_id': UUID('17f3c31e-f889-4699-8d20-a047cd0c75ee')},\n",
       " {'film_id': UUID('a55701e5-14bb-431c-9d0f-408f34ff23d6')},\n",
       " {'film_id': UUID('359e3b23-b4f5-4295-bab9-49973853033d')},\n",
       " {'film_id': UUID('7bfc8ba6-e3ba-4db5-ae2c-46e8c34b3070')},\n",
       " {'film_id': UUID('3a22d6a3-2e3f-4286-8dcd-a2926d7f732a')},\n",
       " {'film_id': UUID('bf0199fd-debe-49bc-959d-a539d4236040')},\n",
       " {'film_id': UUID('47b3ac86-a180-4c6a-8d1b-f7a17dfb5ae7')},\n",
       " {'film_id': UUID('9c8daba0-ee18-40e4-88f3-ea9e0d778ddf')},\n",
       " {'film_id': UUID('129fee1a-4ac3-48fa-bbce-9e2ab8376d59')},\n",
       " {'film_id': UUID('a63e5134-f636-4aea-8a23-b6353d12b835')},\n",
       " {'film_id': UUID('f5c416fd-4387-4cbe-8e7f-0def7bd9b126')},\n",
       " {'film_id': UUID('315b98e2-10a8-4b91-be10-dcdf7ad66ef1')},\n",
       " {'film_id': UUID('029a6524-4eb3-4de9-8e91-e6cd0547b4cb')},\n",
       " {'film_id': UUID('f64030a5-5842-49c3-9335-fed68302a81a')},\n",
       " {'film_id': UUID('a1efe49a-7554-4ce5-91ab-a0cc079c5e94')},\n",
       " {'film_id': UUID('446d63d5-cb38-4a65-a3ff-8d04177f7647')},\n",
       " {'film_id': UUID('0c3de427-f464-4111-b823-1a7bfcaf796e')},\n",
       " {'film_id': UUID('c67a890a-aaff-4a2f-a542-e5e2581f568a')},\n",
       " {'film_id': UUID('5f402fce-a251-4e29-9440-2071be960407')},\n",
       " {'film_id': UUID('bc78260f-eea0-49a9-8903-690adc943b9f')},\n",
       " {'film_id': UUID('de760b23-1a1e-49c5-9c21-632c647b602e')},\n",
       " {'film_id': UUID('9f3e1f37-4bb7-487a-990a-c220cc251a3f')},\n",
       " {'film_id': UUID('7705a489-8792-40e3-8b02-1ee4f69a82b9')},\n",
       " {'film_id': UUID('f315a6a1-4c0f-49b7-a6d5-6dfca37fcc68')},\n",
       " {'film_id': UUID('8a895fde-08d6-48c5-b439-0e2de0b75155')},\n",
       " {'film_id': UUID('8ece1971-8461-4269-a0f3-c7a44d652400')},\n",
       " {'film_id': UUID('d978e017-82bc-4855-b1d2-c7d3e275f8ee')},\n",
       " {'film_id': UUID('f94d18ca-2792-4edd-a518-f0341eae48a4')},\n",
       " {'film_id': UUID('55df5674-f0b3-4eaf-bd43-eecb9f34276a')},\n",
       " {'film_id': UUID('a9ac0253-dd50-416f-bdeb-0eeb4688869a')},\n",
       " {'film_id': UUID('7256fe4f-dbfb-4f69-9d13-22ce7c961d4b')},\n",
       " {'film_id': UUID('0305b640-2f50-4553-9e9d-1c230217648c')},\n",
       " {'film_id': UUID('e7a58aa5-a16c-4eab-802e-0597aea0bf8a')},\n",
       " {'film_id': UUID('256808aa-232b-4580-bf92-a1b222d7eb4a')},\n",
       " {'film_id': UUID('a4041468-6e58-44c2-adbb-8f24fde04e74')},\n",
       " {'film_id': UUID('29c32d66-f826-4f8d-b455-93e707cb8b81')},\n",
       " {'film_id': UUID('55e6306b-bfb2-4b3f-90b9-68c10046a1e1')},\n",
       " {'film_id': UUID('e035efdf-7928-4ec9-a7fa-fdd17e8e4ceb')},\n",
       " {'film_id': UUID('e768eba2-b8b0-40eb-92d0-a118f9ffc900')},\n",
       " {'film_id': UUID('008032c2-2846-4b79-9c35-24d3df2e1652')},\n",
       " {'film_id': UUID('ade012f9-fcb9-4cdb-af9c-abe16ac2fec8')},\n",
       " {'film_id': UUID('3c9ba42c-193b-46b0-9e73-523cf5e7b746')},\n",
       " {'film_id': UUID('01f14641-722a-4e04-98db-9526a1483512')},\n",
       " {'film_id': UUID('538f6dd8-1247-49d2-888b-c93693831d09')},\n",
       " {'film_id': UUID('ee648c75-a1a3-4346-93ac-ca8e32617636')},\n",
       " {'film_id': UUID('2e9e6d19-1314-4577-bc7b-3601d9bb9c9b')},\n",
       " {'film_id': UUID('11122acb-d8cd-4053-bea0-1b459a76cd0d')},\n",
       " {'film_id': UUID('e0a05cdc-e9a1-4fc8-89e8-eed157f79a7b')},\n",
       " {'film_id': UUID('479e4373-b88b-4c61-9408-67d169f69f43')},\n",
       " {'film_id': UUID('3f6f5128-775e-4332-a6e5-329aff913427')},\n",
       " {'film_id': UUID('a95b26be-c97e-4248-96d6-823d059e1384')}]"
      ]
     },
     "execution_count": 10,
     "metadata": {},
     "output_type": "execute_result"
    }
   ],
   "source": [
    "%%time\n",
    "mongodb.get_collection('users').find_one(\n",
    "    filter={'_id': UUID('8d235240-8f4e-430e-b841-51b42585e5c8')},\n",
    ")['bookmarks']"
   ]
  },
  {
   "cell_type": "markdown",
   "id": "fc5f642f",
   "metadata": {},
   "source": [
    "### `The number of likes on a particular movie`"
   ]
  },
  {
   "cell_type": "code",
   "execution_count": 11,
   "id": "12cc11a7",
   "metadata": {},
   "outputs": [
    {
     "data": {
      "text/plain": [
       "UUID('15481862-4031-4320-b9c9-6c1c2d8f85c4')"
      ]
     },
     "execution_count": 11,
     "metadata": {},
     "output_type": "execute_result"
    }
   ],
   "source": [
    "random_film_id()"
   ]
  },
  {
   "cell_type": "code",
   "execution_count": 12,
   "id": "45655662",
   "metadata": {},
   "outputs": [
    {
     "name": "stdout",
     "output_type": "stream",
     "text": [
      "CPU times: user 3.86 ms, sys: 2.01 ms, total: 5.87 ms\n",
      "Wall time: 34.4 ms\n"
     ]
    },
    {
     "data": {
      "text/plain": [
       "4741"
      ]
     },
     "execution_count": 12,
     "metadata": {},
     "output_type": "execute_result"
    }
   ],
   "source": [
    "%%time\n",
    "mongodb.get_collection('films').aggregate(\n",
    "    pipeline=[\n",
    "        {'$match': {'_id': UUID('15481862-4031-4320-b9c9-6c1c2d8f85c4')}},\n",
    "        {'$project': {\n",
    "            'likes': {\n",
    "                '$size': {\n",
    "                    '$filter': {\n",
    "                        'input': '$votes',\n",
    "                        'cond': {'$eq': ['$$this.score', 10]},\n",
    "                    },\n",
    "                },\n",
    "            },\n",
    "        }},\n",
    "    ],\n",
    ").next()['likes']"
   ]
  },
  {
   "cell_type": "markdown",
   "id": "9fa9694c",
   "metadata": {},
   "source": [
    "### `Average user rating of the movie`"
   ]
  },
  {
   "cell_type": "code",
   "execution_count": 13,
   "id": "d9bfd9b4",
   "metadata": {},
   "outputs": [
    {
     "data": {
      "text/plain": [
       "UUID('065fdd9d-c9d1-42cb-9225-872810632e36')"
      ]
     },
     "execution_count": 13,
     "metadata": {},
     "output_type": "execute_result"
    }
   ],
   "source": [
    "random_film_id()"
   ]
  },
  {
   "cell_type": "code",
   "execution_count": 14,
   "id": "47a93c89",
   "metadata": {},
   "outputs": [
    {
     "name": "stdout",
     "output_type": "stream",
     "text": [
      "CPU times: user 2.65 ms, sys: 3 ms, total: 5.65 ms\n",
      "Wall time: 5.77 ms\n"
     ]
    },
    {
     "data": {
      "text/plain": [
       "5.04148365056125"
      ]
     },
     "execution_count": 14,
     "metadata": {},
     "output_type": "execute_result"
    }
   ],
   "source": [
    "%%time\n",
    "mongodb.get_collection('films').aggregate(\n",
    "    pipeline=[\n",
    "        {'$match': {'_id': UUID('065fdd9d-c9d1-42cb-9225-872810632e36')}},\n",
    "        {'$project': {\n",
    "            'average_rating': {'$avg': '$votes.score'}\n",
    "        }},\n",
    "    ],\n",
    ").next()['average_rating']"
   ]
  },
  {
   "cell_type": "markdown",
   "id": "c60cc95c",
   "metadata": {},
   "source": [
    "## 5. Testing the reading of data coming in real time"
   ]
  },
  {
   "cell_type": "markdown",
   "id": "84bce30b",
   "metadata": {},
   "source": [
    "### `Adding a Like`"
   ]
  },
  {
   "cell_type": "code",
   "execution_count": 15,
   "id": "b1e0098a",
   "metadata": {},
   "outputs": [
    {
     "data": {
      "text/plain": [
       "UUID('ba1bbddd-42ad-4aac-b7e5-f97b1c10578d')"
      ]
     },
     "execution_count": 15,
     "metadata": {},
     "output_type": "execute_result"
    }
   ],
   "source": [
    "random_user_id()"
   ]
  },
  {
   "cell_type": "code",
   "execution_count": 16,
   "id": "621bb7fc",
   "metadata": {},
   "outputs": [
    {
     "data": {
      "text/plain": [
       "UUID('44370745-6ac7-4576-a028-67a0000af66f')"
      ]
     },
     "execution_count": 16,
     "metadata": {},
     "output_type": "execute_result"
    }
   ],
   "source": [
    "random_film_id()"
   ]
  },
  {
   "cell_type": "code",
   "execution_count": 17,
   "id": "66fbefdc",
   "metadata": {},
   "outputs": [
    {
     "name": "stdout",
     "output_type": "stream",
     "text": [
      "CPU times: user 34.9 ms, sys: 2 ms, total: 36.9 ms\n",
      "Wall time: 60.3 ms\n"
     ]
    },
    {
     "data": {
      "text/plain": [
       "{'user_id': UUID('ba1bbddd-42ad-4aac-b7e5-f97b1c10578d'), 'score': 10}"
      ]
     },
     "execution_count": 17,
     "metadata": {},
     "output_type": "execute_result"
    }
   ],
   "source": [
    "%%time\n",
    "mongodb.get_collection('films').find_one_and_update(\n",
    "    filter={'_id': UUID('44370745-6ac7-4576-a028-67a0000af66f')},\n",
    "    update=[\n",
    "        {'$set': {\n",
    "            'votes': {\n",
    "                '$concatArrays': [\n",
    "                    {'$filter': {\n",
    "                        'input': '$votes',\n",
    "                        'cond': {'$ne': ['$$this.user_id', UUID('ba1bbddd-42ad-4aac-b7e5-f97b1c10578d')]}\n",
    "                    }},\n",
    "                    [{'user_id': UUID('ba1bbddd-42ad-4aac-b7e5-f97b1c10578d'), 'score': 10}],\n",
    "            ]},\n",
    "        }},\n",
    "    ],\n",
    "    return_document=True,\n",
    ").get('votes')[-1]"
   ]
  },
  {
   "cell_type": "markdown",
   "id": "9aedb69a",
   "metadata": {},
   "source": [
    "### `Adding a bookmark`"
   ]
  },
  {
   "cell_type": "code",
   "execution_count": 18,
   "id": "b8884d50",
   "metadata": {},
   "outputs": [
    {
     "data": {
      "text/plain": [
       "UUID('afa28e34-fb5a-4d35-88ba-31b648146d9f')"
      ]
     },
     "execution_count": 18,
     "metadata": {},
     "output_type": "execute_result"
    }
   ],
   "source": [
    "random_user_id()"
   ]
  },
  {
   "cell_type": "code",
   "execution_count": 19,
   "id": "e0b735ca",
   "metadata": {},
   "outputs": [
    {
     "data": {
      "text/plain": [
       "UUID('ef298b87-d651-4945-9402-207f65922e9d')"
      ]
     },
     "execution_count": 19,
     "metadata": {},
     "output_type": "execute_result"
    }
   ],
   "source": [
    "random_film_id()"
   ]
  },
  {
   "cell_type": "code",
   "execution_count": 20,
   "id": "165e0eb7",
   "metadata": {},
   "outputs": [
    {
     "name": "stdout",
     "output_type": "stream",
     "text": [
      "CPU times: user 2.83 ms, sys: 999 µs, total: 3.83 ms\n",
      "Wall time: 8.07 ms\n"
     ]
    },
    {
     "data": {
      "text/plain": [
       "{'film_id': UUID('ef298b87-d651-4945-9402-207f65922e9d')}"
      ]
     },
     "execution_count": 20,
     "metadata": {},
     "output_type": "execute_result"
    }
   ],
   "source": [
    "%%time\n",
    "mongodb.get_collection('users').find_one_and_update(\n",
    "    filter={'_id': UUID('afa28e34-fb5a-4d35-88ba-31b648146d9f')},\n",
    "    update={\n",
    "        '$addToSet': {\n",
    "            'bookmarks': {\n",
    "                'film_id': UUID('ef298b87-d651-4945-9402-207f65922e9d'),\n",
    "            },\n",
    "        },\n",
    "    },\n",
    "    return_document=True,\n",
    ").get('bookmarks')[-1]"
   ]
  }
 ],
 "metadata": {
  "kernelspec": {
   "display_name": "fastapi-kafka",
   "language": "python",
   "name": "python3"
  },
  "language_info": {
   "codemirror_mode": {
    "name": "ipython",
    "version": 3
   },
   "file_extension": ".py",
   "mimetype": "text/x-python",
   "name": "python",
   "nbconvert_exporter": "python",
   "pygments_lexer": "ipython3",
   "version": "3.10.4"
  },
  "vscode": {
   "interpreter": {
    "hash": "3c1b1b4c6f3611560a97eab192873b66e24467f02743afdd8ce325bf8baee0b1"
   }
  }
 },
 "nbformat": 4,
 "nbformat_minor": 5
}
